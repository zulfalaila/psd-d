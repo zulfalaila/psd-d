{
  "nbformat": 4,
  "nbformat_minor": 0,
  "metadata": {
    "colab": {
      "provenance": []
    },
    "kernelspec": {
      "name": "python3",
      "display_name": "Python 3"
    },
    "language_info": {
      "name": "python"
    }
  },
  "cells": [
    {
      "cell_type": "markdown",
      "source": [
        "## Pendahuluan"
      ],
      "metadata": {
        "id": "d808RTqv_aG8"
      }
    },
    {
      "cell_type": "markdown",
      "source": [
        "### Latar Belakang"
      ],
      "metadata": {
        "id": "pKgCDXUD_dgf"
      }
    },
    {
      "cell_type": "markdown",
      "source": [
        "Kopi Kenangan adalah salah satu merek kopi terkemuka di Indonesia, dikenal dengan kualitas produk dan pelayanan yang unggul. Dengan cabang-cabang yang tersebar di seluruh Indonesia, perusahaan ini mengumpulkan data transaksi yang kaya dan beragam. Data ini mencakup berbagai informasi, mulai dari produk yang dijual hingga lokasi toko, waktu transaksi, dan jumlah pembelian. Pengelolaan stok dan optimalisasi inventaris di banyak lokasi memerlukan pemahaman mendalam tentang pola penjualan dan permintaan pelanggan.\n",
        "\n",
        "Namun, Kopi Kenangan menghadapi beberapa kendala signifikan dalam operasionalnya. Salah satu tantangan utama adalah fluktuasi permintaan produk yang sering terjadi. Pengelolaan inventaris di berbagai cabang dengan beragam produk juga merupakan masalah besar. Stok yang tidak dikelola dengan baik dapat menyebabkan kelebihan atau kekurangan stok, yang pada akhirnya berdampak negatif pada layanan pelanggan dan profitabilitas. Tantangan ini semakin diperparah oleh pengelolaan data yang besar dan beragam. Meskipun memiliki data transaksi yang melimpah, data ini sering tersebar dan tidak terintegrasi dengan baik, sehingga menyulitkan analisis yang akurat.\n",
        "\n",
        "Akhirnya, ketepatan peramalan menjadi isu penting. Untuk mengambil keputusan yang tepat dalam pengelolaan stok, diperlukan metode analisis yang canggih serta pemahaman mendalam tentang berbagai faktor yang mempengaruhi penjualan. Dengan mengatasi kendala-kendala ini, Kopi Kenangan dapat lebih baik dalam merencanakan stok, mengelola inventaris, dan meningkatkan efisiensi operasionalnya.\n"
      ],
      "metadata": {
        "id": "piz-ZjTr_m14"
      }
    },
    {
      "cell_type": "markdown",
      "source": [
        "### Tujuan"
      ],
      "metadata": {
        "id": "GqLp70Wu_r0I"
      }
    },
    {
      "cell_type": "markdown",
      "source": [
        "Tujuan Penelitian :\n",
        "\n",
        "1. Menganalisis cara untuk mengelola stok dengan lebih baik, sehingga produk tersedia di tempat dan waktu yang tepat, dan menghindari masalah kelebihan atau kekurangan stok.\n",
        "2. Meningkatkan pengalaman pelanggan dengan memastikan produk yang mereka inginkan selalu tersedia, sehingga mereka merasa puas dan loyal.\n",
        "3. Membantu merencanakan kebutuhan operasional secara lebih efektif untuk mengurangi pemborosan dan membuat seluruh proses lebih efisien.\n",
        "4. Mengidentifikasi pola dan tren penjualan untuk membantu dalam merencanakan strategi bisnis dan pemasaran yang lebih efektif dan responsif."
      ],
      "metadata": {
        "id": "yRPdQ4DM_t5c"
      }
    },
    {
      "cell_type": "markdown",
      "source": [
        "### Rumusan Masalah"
      ],
      "metadata": {
        "id": "HNiMdKYm_0vu"
      }
    },
    {
      "cell_type": "markdown",
      "source": [
        "Rumusan Masalah :\n",
        "1. Bagaimana cara memprediksi permintaan produk kopi dengan akurat di setiap cabang Kopi Kenangan?\n",
        "2. Metode apa yang paling efektif untuk mengelola inventaris berdasarkan prediksi penjualan?\n",
        "3. Bagaimana cara mengatasi fluktuasi permintaan berdasarkan pola penjualan sebelumnya?"
      ],
      "metadata": {
        "id": "7Sgw5NRN_3Oa"
      }
    }
  ]
}